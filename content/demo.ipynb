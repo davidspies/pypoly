{
 "cells": [
  {
   "cell_type": "code",
   "execution_count": 1,
   "id": "20d6b70c",
   "metadata": {},
   "outputs": [
    {
     "name": "stdout",
     "output_type": "stream",
     "text": [
      "(x + 1) ** 0 = 1\n",
      "(x + 1) ** 1 = x + 1\n",
      "(x + 1) ** 2 = x**2 + 2x + 1\n",
      "(x + 1) ** 3 = x**3 + 3x**2 + 3x + 1\n",
      "(x + 1) ** 4 = x**4 + 4x**3 + 6x**2 + 4x + 1\n",
      "(x + 1) ** 5 = x**5 + 5x**4 + 10x**3 + 10x**2 + 5x + 1\n"
     ]
    }
   ],
   "source": [
    "from poly import Polynomial, x\n",
    "\n",
    "for k in range(0, 6):\n",
    "    print(f\"(x + 1) ** {k} =\", (x + 1) ** k)"
   ]
  },
  {
   "cell_type": "code",
   "execution_count": 2,
   "id": "bb42f590",
   "metadata": {},
   "outputs": [
    {
     "name": "stdout",
     "output_type": "stream",
     "text": [
      "1\n",
      "0\n",
      "5\n",
      "22\n",
      "57\n",
      "116\n"
     ]
    }
   ],
   "source": [
    "p = (x**3 - 2 * x + 1)\n",
    "for k in range(0, 6):\n",
    "    print(p.eval(k))"
   ]
  },
  {
   "cell_type": "code",
   "execution_count": 3,
   "id": "27f26c0c",
   "metadata": {},
   "outputs": [
    {
     "name": "stdout",
     "output_type": "stream",
     "text": [
      "x**6 + 3x**4 + x**2\n",
      "x**6 + 3x**4 + x**2\n"
     ]
    }
   ],
   "source": [
    "g = x**2 + 1\n",
    "print(g**3 - 2 * g + 1)\n",
    "print(p.eval(x**2 + 1))"
   ]
  },
  {
   "cell_type": "code",
   "execution_count": 4,
   "id": "ca975839",
   "metadata": {},
   "outputs": [
    {
     "name": "stdout",
     "output_type": "stream",
     "text": [
      " 1\n",
      " 1  1\n",
      " 1  2  1\n",
      " 1  3  3  1\n",
      " 1  4  6  4  1\n",
      " 1  5 10 10  5  1\n",
      " 1  6 15 20 15  6  1\n",
      " 1  7 21 35 35 21  7  1\n",
      " 1  8 28 56 70 56 28  8  1\n"
     ]
    }
   ],
   "source": [
    "for k in range(0, 9):\n",
    "    print(*(f\"{int(n):2}\" for n in ((x + 1) ** k).coeffs()))"
   ]
  },
  {
   "cell_type": "code",
   "execution_count": 5,
   "id": "2a7a52ad",
   "metadata": {},
   "outputs": [
    {
     "name": "stdout",
     "output_type": "stream",
     "text": [
      "choose(3, 3) = 1\n",
      "choose(4, 3) = 4\n",
      "choose(5, 3) = 10\n",
      "choose(6, 3) = 20\n",
      "choose(7, 3) = 35\n"
     ]
    }
   ],
   "source": [
    "# type: ignore\n",
    "from fractions import Fraction\n",
    "\n",
    "\n",
    "def choose(n, k):\n",
    "    if k < 0:\n",
    "        return 0\n",
    "    result = Fraction(1)\n",
    "    for i in range(k):\n",
    "        result = result * (n - i) / (i + 1)\n",
    "    return result\n",
    "\n",
    "\n",
    "for n in range(3, 8):\n",
    "    print(f\"choose({n}, 3) =\", choose(n, 3))"
   ]
  },
  {
   "cell_type": "code",
   "execution_count": 6,
   "id": "f734b302",
   "metadata": {},
   "outputs": [
    {
     "name": "stdout",
     "output_type": "stream",
     "text": [
      "choose(x, 0) = 1\n",
      "choose(x, 1) = x\n",
      "choose(x, 2) = (1/2)x**2 - (1/2)x\n",
      "choose(x, 3) = (1/6)x**3 - (1/2)x**2 + (1/3)x\n",
      "choose(x, 4) = (1/24)x**4 - (1/4)x**3 + (11/24)x**2 - (1/4)x\n",
      "choose(x, 5) = (1/120)x**5 - (1/12)x**4 + (7/24)x**3 - (5/12)x**2 + (1/5)x\n"
     ]
    }
   ],
   "source": [
    "for k in range(0, 6):\n",
    "    print(f\"choose(x, {k}) =\", choose(x, k))"
   ]
  },
  {
   "cell_type": "code",
   "execution_count": 7,
   "id": "1eea145f",
   "metadata": {},
   "outputs": [
    {
     "name": "stdout",
     "output_type": "stream",
     "text": [
      "choose(x, 2) = (1/2)x**2 - (1/2)x\n",
      "choose(x, 2) * 2 = x**2 - x\n",
      "choose(x, 2) * 2 + choose(x, 1) = x**2\n"
     ]
    }
   ],
   "source": [
    "print(\"choose(x, 2) =\", choose(x, 2))\n",
    "print(\"choose(x, 2) * 2 =\", choose(x, 2) * 2)\n",
    "print(\"choose(x, 2) * 2 + choose(x, 1) =\", choose(x, 2) * 2 + choose(x, 1))"
   ]
  },
  {
   "cell_type": "code",
   "execution_count": 8,
   "id": "baf1ae52",
   "metadata": {},
   "outputs": [
    {
     "name": "stdout",
     "output_type": "stream",
     "text": [
      "binom_coeffs(x**0) = [ 1 ]\n",
      "binom_coeffs(x**1) = [ 0 1 ]\n",
      "binom_coeffs(x**2) = [ 0 1 2 ]\n",
      "binom_coeffs(x**3) = [ 0 1 6 6 ]\n",
      "binom_coeffs(x**4) = [ 0 1 14 36 24 ]\n",
      "binom_coeffs(x**5) = [ 0 1 30 150 240 120 ]\n"
     ]
    }
   ],
   "source": [
    "from fractions import Fraction\n",
    "from typing import Generator, List\n",
    "\n",
    "\n",
    "def factorial(n: int) -> int:\n",
    "    if n < 0:\n",
    "        raise ValueError(f\"Factorial is not defined for negative integers: {n}\")\n",
    "    result = 1\n",
    "    for i in range(2, n + 1):\n",
    "        result *= i\n",
    "    return result\n",
    "\n",
    "\n",
    "def reversed_binom_coeffs(p: Polynomial) -> Generator[Fraction, None, None]:\n",
    "    for d in reversed(range(0, p.degree() + 1)):\n",
    "        c = p.coeff_at(d) * factorial(d)\n",
    "        yield c\n",
    "        p -= c * choose(x, d)\n",
    "        assert p == 0 or p.degree() < d\n",
    "\n",
    "\n",
    "def binom_coeffs(p: Polynomial) -> List[Fraction]:\n",
    "    result = list(reversed_binom_coeffs(p))\n",
    "    result.reverse()\n",
    "    return result\n",
    "\n",
    "\n",
    "for n in range(6):\n",
    "    print(f\"binom_coeffs(x**{n}) = [\", *binom_coeffs(x**n), \"]\")"
   ]
  },
  {
   "cell_type": "code",
   "execution_count": 9,
   "id": "297fa430",
   "metadata": {},
   "outputs": [
    {
     "name": "stdout",
     "output_type": "stream",
     "text": [
      "x**3\n"
     ]
    }
   ],
   "source": [
    "print(0 * choose(x, 0) + 1 * choose(x, 1) + 6 * choose(x, 2) + 6 * choose(x, 3))"
   ]
  },
  {
   "cell_type": "code",
   "execution_count": 10,
   "id": "199e46d1",
   "metadata": {},
   "outputs": [
    {
     "name": "stdout",
     "output_type": "stream",
     "text": [
      "choose(x, 0) = 1\n",
      "choose(x, 1) = x\n",
      "choose(x, 2) = (1/2)x**2 - (1/2)x\n",
      "choose(x, 3) = (1/6)x**3 - (1/2)x**2 + (1/3)x\n",
      "choose(x, 4) = (1/24)x**4 - (1/4)x**3 + (11/24)x**2 - (1/4)x\n",
      "choose(x, 5) = (1/120)x**5 - (1/12)x**4 + (7/24)x**3 - (5/12)x**2 + (1/5)x\n"
     ]
    }
   ],
   "source": [
    "import itertools\n",
    "\n",
    "\n",
    "def binom_basis() -> Generator[Polynomial, None, None]:\n",
    "    p = Polynomial(1)\n",
    "    for i in itertools.count():\n",
    "        yield p\n",
    "        p = p * (x - i) / (i + 1)\n",
    "\n",
    "b_iter = binom_basis()\n",
    "for k in range(6):\n",
    "    print(f\"choose(x, {k}) =\", next(b_iter))"
   ]
  },
  {
   "cell_type": "code",
   "execution_count": 11,
   "id": "53d7c6bc",
   "metadata": {},
   "outputs": [
    {
     "name": "stdout",
     "output_type": "stream",
     "text": [
      "dot([1, 2, 3], [4, 5, 6]) = 32\n",
      "dot([1, 2, 3], [4, 5, 6, 7]) = 32\n",
      "dot([1, 2, 3, 4], [1, x, x**2, x**3]) = 4x**3 + 3x**2 + 2x + 1\n"
     ]
    }
   ],
   "source": [
    "# type: ignore\n",
    "def dot(a, b):\n",
    "    return sum(x * y for (x, y) in zip(a, b))\n",
    "\n",
    "\n",
    "print(\"dot([1, 2, 3], [4, 5, 6]) =\", dot([1, 2, 3], [4, 5, 6]))\n",
    "print(\"dot([1, 2, 3], [4, 5, 6, 7]) =\", dot([1, 2, 3], [4, 5, 6, 7]))\n",
    "print(\"dot([1, 2, 3, 4], [1, x, x**2, x**3]) =\", dot([1, 2, 3, 4], [1, x, x**2, x**3]))"
   ]
  },
  {
   "cell_type": "code",
   "execution_count": 12,
   "id": "fb0959e4",
   "metadata": {},
   "outputs": [
    {
     "name": "stdout",
     "output_type": "stream",
     "text": [
      "x ** 0 = 1\n",
      "x ** 1 = x\n",
      "x ** 2 = x**2\n",
      "x ** 3 = x**3\n",
      "x ** 4 = x**4\n",
      "x ** 5 = x**5\n"
     ]
    }
   ],
   "source": [
    "for k in range(0, 6):\n",
    "    print(f\"x ** {k} =\", dot(binom_coeffs(x ** k), binom_basis()))"
   ]
  },
  {
   "cell_type": "code",
   "execution_count": 13,
   "id": "7b8c5189",
   "metadata": {},
   "outputs": [
    {
     "name": "stdout",
     "output_type": "stream",
     "text": [
      "h(x ** 0) = x + 1\n",
      "h(x ** 1) = (1/2)x**2 + (1/2)x\n",
      "h(x ** 2) = (1/3)x**3 + (1/2)x**2 + (1/6)x\n",
      "h(x ** 3) = (1/4)x**4 + (1/2)x**3 + (1/4)x**2\n",
      "h(x ** 4) = (1/5)x**5 + (1/2)x**4 + (1/3)x**3 - (1/30)x\n",
      "h(x ** 5) = (1/6)x**6 + (1/2)x**5 + (5/12)x**4 - (1/12)x**2\n"
     ]
    }
   ],
   "source": [
    "def h(p: Polynomial) -> Polynomial:\n",
    "    return Polynomial(dot([0] + binom_coeffs(p), binom_basis())).eval(x + 1)\n",
    "\n",
    "for k in range(0, 6):\n",
    "    print(f\"h(x ** {k}) =\", h(x ** k))"
   ]
  }
 ],
 "metadata": {
  "kernelspec": {
   "display_name": "venv",
   "language": "python",
   "name": "python3"
  },
  "language_info": {
   "codemirror_mode": {
    "name": "ipython",
    "version": 3
   },
   "file_extension": ".py",
   "mimetype": "text/x-python",
   "name": "python",
   "nbconvert_exporter": "python",
   "pygments_lexer": "ipython3",
   "version": "3.12.3"
  }
 },
 "nbformat": 4,
 "nbformat_minor": 5
}
